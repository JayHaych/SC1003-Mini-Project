{
 "cells": [
  {
   "cell_type": "markdown",
   "metadata": {},
   "source": [
    "### Appending Information from CSV"
   ]
  },
  {
   "cell_type": "code",
   "execution_count": 8,
   "metadata": {},
   "outputs": [],
   "source": [
    "# Initialize Global Variable STUDENTS_LIST and append the information from the CSV File \n",
    "STUDENTS_LIST = []\n",
    "with open('records.csv', 'r') as records:\n",
    "    next(records) # Start from second line onwards\n",
    "    for student in records:\n",
    "        tutorial_group, student_id, school, name, gender, cgpa = student.strip().split(',')\n",
    "        STUDENTS_LIST.append({ #Adding each student into dictionary\n",
    "            'Tutorial Group': tutorial_group,\n",
    "            'Student ID': student_id,\n",
    "            'Name': name,\n",
    "            'School': school,\n",
    "            'Gender': gender,\n",
    "            'CGPA': float(cgpa)\n",
    "        })"
   ]
  },
  {
   "cell_type": "markdown",
   "metadata": {},
   "source": [
    "### Split Into Tutorial Groups"
   ]
  },
  {
   "cell_type": "code",
   "execution_count": 9,
   "metadata": {},
   "outputs": [],
   "source": [
    "tutorial_ordered_list = []\n",
    "def split_into_groups(records_list, group_size):\n",
    "        return [records_list[i:i + group_size] for i in range(0, len(records_list), group_size)]\n",
    "    \n",
    "    #Spliting the groups based on tutorial            \n",
    "tutorial_ordered_list = split_into_groups(STUDENTS_LIST, 50)"
   ]
  },
  {
   "cell_type": "markdown",
   "metadata": {},
   "source": [
    "### Prompt For User Input and Error Catching"
   ]
  },
  {
   "cell_type": "code",
   "execution_count": 10,
   "metadata": {},
   "outputs": [],
   "source": [
    "while True:\n",
    "    User_input = input(\"please indicate the group size (4-10):  \")\n",
    "    try:\n",
    "        Check_input = int(User_input)\n",
    "    except ValueError:\n",
    "        print(\"The number entered must be an integer between 4 to 10\")\n",
    "        continue\n",
    "    Group_size = int(User_input)\n",
    "    if 4 <= Group_size <= 10 and Group_size != 9:\n",
    "        number_of_groups = 50 // Group_size\n",
    "        break\n",
    "    elif Group_size == 9:\n",
    "        print(\"9 in a group is not possible as there will be 5 leftovers. Adding them back will result in 10 in a group.\")\n",
    "        print(\"please try again\")\n",
    "        continue\n",
    "    else:\n",
    "        print(\"number not in range!\")\n",
    "        continue"
   ]
  },
  {
   "cell_type": "markdown",
   "metadata": {},
   "source": [
    "### Sorting And Adding Into Groups"
   ]
  },
  {
   "cell_type": "code",
   "execution_count": 11,
   "metadata": {},
   "outputs": [],
   "source": [
    "for tutorial in range(120):\n",
    "    #sort by GPA first\n",
    "    def cgpa_groups(student):\n",
    "            return student[\"CGPA\"]\n",
    "    tutorial_ordered_list[tutorial].sort(key=cgpa_groups) \n",
    "        \n",
    "    #Sort by gender next\n",
    "    def gender_groups(student):\n",
    "            return student[\"Gender\"]\n",
    "    tutorial_ordered_list[tutorial].sort(key=gender_groups) #then sort by gender\n"
   ]
  },
  {
   "cell_type": "markdown",
   "metadata": {},
   "source": [
    "### Algorithm To Determine Which Gender To Take Out As \"Extra\""
   ]
  },
  {
   "cell_type": "code",
   "execution_count": 12,
   "metadata": {},
   "outputs": [],
   "source": [
    "Number_of_extra_student = 50 - ((50 // Group_size) * Group_size)\n",
    "if Number_of_extra_student != 0:\n",
    "        Gender_to_pop_out = tutorial_ordered_list[tutorial][25]['Gender']\n",
    "        Potential_students_to_be_slotted_in_later = [x for x in tutorial_ordered_list[tutorial] if x['Gender'] == Gender_to_pop_out]\n",
    "        Students_to_be_slotted_in_later = Potential_students_to_be_slotted_in_later[-(Number_of_extra_student):]\n",
    "        Students_to_be_slotted_in_later.reverse()\n",
    "\n",
    "        for student in Students_to_be_slotted_in_later:\n",
    "            tutorial_ordered_list[tutorial].remove(student)\n",
    "\n",
    "    \n",
    "    #Algorithm to add all into their groups \n",
    "grouping_list = split_into_groups(tutorial_ordered_list[tutorial], number_of_groups) #Split into number of groups prompted\n",
    "temp_list = [[] for n in range(number_of_groups)]\n",
    "for group in range(number_of_groups):\n",
    "        for person in range(Group_size):\n",
    "            temp_list[group].append(grouping_list[person][group])"
   ]
  },
  {
   "cell_type": "markdown",
   "metadata": {},
   "source": [
    "### Check Balance Function And Swapping Groups"
   ]
  },
  {
   "cell_type": "code",
   "execution_count": 13,
   "metadata": {},
   "outputs": [],
   "source": [
    "def check_balance(category):\n",
    "        if category == 'CGPA':\n",
    "            for group in range(number_of_groups):\n",
    "                total_sum = 0\n",
    "                for member in range(Group_size):\n",
    "                    total_sum += temp_list[group][member][category]\n",
    "                print(total_sum / Group_size)\n",
    "        else:\n",
    "            correct = True\n",
    "            for group in range(number_of_groups):\n",
    "                counter = {}\n",
    "                for member in range(Group_size):\n",
    "                    category_value = temp_list[group][member][category]\n",
    "                    print(category_value,end=', ')\n",
    "                print()\n",
    "                    \n",
    "\n",
    "    \n",
    "\n",
    "    \n",
    "\n",
    "    #this should be used to check the balance in the grouping\n",
    "        #Since we already sorted the list based on CGPA and Gender, I believe most of the groups will only have problems for school?\n",
    "def rectify_school_imbalance(): #MIGHT HAVE TO CHANGE FUNC NAME TO RECTIFY_SCHOOL_INBALANCE()\n",
    "        Imbalance_case = []\n",
    "        school_of_each_group = [[] for n in range(number_of_groups)]\n",
    "        for group in range(number_of_groups):\n",
    "            for member in range(Group_size):\n",
    "                school_of_each_group[group].append(temp_list[group][member]['School'])\n",
    "\n",
    "        school_list = ['ADM', 'ASE', 'CCDS', 'CCEB', 'CEE', 'CoB (NBS)', 'CoE', 'EEE', 'HASS', 'LKCMedicine', 'MAE', 'MSE', 'NIE', 'SBS', 'SoH', 'SPMS', 'SSS', 'WKW SCI']\n",
    "\n",
    "        for group in range(number_of_groups):\n",
    "            school_counts = {}\n",
    "            for school in school_of_each_group[group]:\n",
    "                if school in school_counts:\n",
    "                    school_counts[school] += 1\n",
    "                else:\n",
    "                    school_counts[school] = 1\n",
    "            #print(f\"Group {group} counts:\", school_counts) #for debugging\n",
    "            for school, count in school_counts.items():\n",
    "                if count >= 3: #if inbalanced we swap\n",
    "                    Imbalance_case.append(school_of_each_group[group])        \n",
    "                    #swap begins here\n",
    "                    for target_group in range(number_of_groups): #iterate through school_of_each_group\n",
    "                        if target_group != group:\n",
    "                            for target_member, target_school in enumerate(school_of_each_group[target_group]):\n",
    "                                if target_school != school: #ensure sch swapped is diff\n",
    "                                    # swap a member from the imbalanced group with the target group\n",
    "                                    need_repeat = True \n",
    "                                    for member, member_school in enumerate(school_of_each_group[group]):#iterate thru problem grp till we find the sch to swap\n",
    "                                        if need_repeat == False:\n",
    "                                            break\n",
    "                                        if member_school == school and temp_list[target_group][target_member]['Gender'] == temp_list[group][member]['Gender']:\n",
    "                                            # Swap the students between groups\n",
    "                                            temp_list[group][member], temp_list[target_group][target_member] = temp_list[target_group][target_member], temp_list[group][member]\n",
    "\n",
    "                                            # Update school_of_each_group to reflect the swap\n",
    "                                            school_of_each_group[group][member], school_of_each_group[target_group][target_member] = school_of_each_group[target_group][target_member], school_of_each_group[group][member]\n",
    "                                            school_counts[school] -= 1    \n",
    "                                            need_repeat = False\n",
    "                                                                                \n",
    "                                            #check if both swapped is fine \n",
    "                                            grouping = [target_group, group]\n",
    "                                            for diff_group in grouping:\n",
    "                                                if need_repeat == True:\n",
    "                                                    break\n",
    "                                                school_target_count = {}\n",
    "                                                for schools in school_of_each_group[diff_group]:\n",
    "                                                    if schools in school_target_count:\n",
    "                                                        school_target_count[schools] += 1\n",
    "                                                    else:\n",
    "                                                        school_target_count[schools] = 1\n",
    "                                                # use this print(school_target_count)\n",
    "                                                #print(f\"Group {group} counts:\", school_counts) #for debugging\n",
    "                                                for schools, counts in school_target_count.items():\n",
    "                                                    if counts >= 3 and schools == school and diff_group == group: \n",
    "                                                        need_repeat = True\n",
    "                                                        break\n",
    "                                                    elif counts >= 3: #if inbalanced we swap\n",
    "                                                        temp_list[target_group][target_member], temp_list[group][member] = temp_list[group][member], temp_list[target_group][target_member]\n",
    "                                                        school_of_each_group[target_group][target_member], school_of_each_group[group][member] =  school_of_each_group[group][member], school_of_each_group[target_group][target_member]\n",
    "                                                        school_counts[school] += 1\n",
    "                                                        need_repeat = True \n",
    "                                            \n",
    "                                            # Break after swap to avoid multiple swaps at once\n",
    "                                            break\n",
    "                                        # Check if imbalance is resolved after each swap\\\n",
    "\n",
    "                                if school_counts[school] < 3:\n",
    "                                    break #break inner loop \n",
    "                            if school_counts[school] < 3:\n",
    "                                break #break outer loop"
   ]
  },
  {
   "cell_type": "markdown",
   "metadata": {},
   "source": [
    "### Slotting In Extra Members"
   ]
  },
  {
   "cell_type": "code",
   "execution_count": 14,
   "metadata": {},
   "outputs": [],
   "source": [
    "if Number_of_extra_student != 0:\n",
    "        average_list = [[] for n in range(number_of_groups)]\n",
    "        for group in range(number_of_groups):\n",
    "                total_sum = 0\n",
    "                for member in range(Group_size):\n",
    "                    total_sum += temp_list[group][member]['CGPA']\n",
    "                average = total_sum / Group_size\n",
    "                average_list[group] = average\n",
    "\n",
    "        groups_that_need_more_members = sorted(average_list)[:Number_of_extra_student]\n",
    "        index_of_groups_that_need_more_members = [average_list.index(x) for x in groups_that_need_more_members]\n",
    "        for i, student in enumerate(Students_to_be_slotted_in_later):\n",
    "            temp_list[index_of_groups_that_need_more_members[i]].append(student)\n",
    "\n",
    "\n",
    "n = 1\n",
    "for Team in temp_list:\n",
    "        for member in Team:\n",
    "            member['Team Number'] = n\n",
    "        n += 1\n",
    "\n",
    "tutorial_ordered_list[tutorial] = temp_list"
   ]
  },
  {
   "cell_type": "markdown",
   "metadata": {},
   "source": [
    "### Writing The Ordered Record"
   ]
  },
  {
   "cell_type": "code",
   "execution_count": 15,
   "metadata": {},
   "outputs": [
    {
     "ename": "KeyError",
     "evalue": "'Team Number'",
     "output_type": "error",
     "traceback": [
      "\u001b[1;31m---------------------------------------------------------------------------\u001b[0m",
      "\u001b[1;31mKeyError\u001b[0m                                  Traceback (most recent call last)",
      "Cell \u001b[1;32mIn[15], line 5\u001b[0m\n\u001b[0;32m      3\u001b[0m \u001b[38;5;28;01mfor\u001b[39;00m individual_tutorial \u001b[38;5;129;01min\u001b[39;00m tutorial_ordered_list:\n\u001b[0;32m      4\u001b[0m     \u001b[38;5;28;01mfor\u001b[39;00m individual_member \u001b[38;5;129;01min\u001b[39;00m individual_tutorial:\n\u001b[1;32m----> 5\u001b[0m         new_record\u001b[38;5;241m.\u001b[39mwrite(\u001b[38;5;124mf\u001b[39m\u001b[38;5;124m\"\u001b[39m\u001b[38;5;132;01m{\u001b[39;00mindividual_member[\u001b[38;5;124m'\u001b[39m\u001b[38;5;124mTutorial Group\u001b[39m\u001b[38;5;124m'\u001b[39m]\u001b[38;5;132;01m}\u001b[39;00m\u001b[38;5;124m,\u001b[39m\u001b[38;5;132;01m{\u001b[39;00mindividual_member[\u001b[38;5;124m'\u001b[39m\u001b[38;5;124mStudent ID\u001b[39m\u001b[38;5;124m'\u001b[39m]\u001b[38;5;132;01m}\u001b[39;00m\u001b[38;5;124m,\u001b[39m\u001b[38;5;132;01m{\u001b[39;00mindividual_member[\u001b[38;5;124m'\u001b[39m\u001b[38;5;124mSchool\u001b[39m\u001b[38;5;124m'\u001b[39m]\u001b[38;5;132;01m}\u001b[39;00m\u001b[38;5;124m,\u001b[39m\u001b[38;5;132;01m{\u001b[39;00mindividual_member[\u001b[38;5;124m'\u001b[39m\u001b[38;5;124mName\u001b[39m\u001b[38;5;124m'\u001b[39m]\u001b[38;5;132;01m}\u001b[39;00m\u001b[38;5;124m,\u001b[39m\u001b[38;5;132;01m{\u001b[39;00mindividual_member[\u001b[38;5;124m'\u001b[39m\u001b[38;5;124mGender\u001b[39m\u001b[38;5;124m'\u001b[39m]\u001b[38;5;132;01m}\u001b[39;00m\u001b[38;5;124m,\u001b[39m\u001b[38;5;132;01m{\u001b[39;00mindividual_member[\u001b[38;5;124m'\u001b[39m\u001b[38;5;124mCGPA\u001b[39m\u001b[38;5;124m'\u001b[39m]\u001b[38;5;132;01m}\u001b[39;00m\u001b[38;5;124m,\u001b[39m\u001b[38;5;132;01m{\u001b[39;00m\u001b[43mindividual_member\u001b[49m\u001b[43m[\u001b[49m\u001b[38;5;124;43m'\u001b[39;49m\u001b[38;5;124;43mTeam Number\u001b[39;49m\u001b[38;5;124;43m'\u001b[39;49m\u001b[43m]\u001b[49m\u001b[38;5;132;01m}\u001b[39;00m\u001b[38;5;130;01m\\n\u001b[39;00m\u001b[38;5;124m\"\u001b[39m)\n",
      "\u001b[1;31mKeyError\u001b[0m: 'Team Number'"
     ]
    }
   ],
   "source": [
    "with open('new.record.csv', 'w') as new_record:\n",
    "    new_record.write(\"Tutorial Group,Student ID,School,Name,Gender,CGPA,Team Number\\n\")\n",
    "    for individual_tutorial in tutorial_ordered_list:\n",
    "        for individual_member in individual_tutorial:\n",
    "            new_record.write(f\"{individual_member['Tutorial Group']},{individual_member['Student ID']},{individual_member['School']},{individual_member['Name']},{individual_member['Gender']},{individual_member['CGPA']},{individual_member['Team Number']}\\n\")\n"
   ]
  }
 ],
 "metadata": {
  "kernelspec": {
   "display_name": "Python 3",
   "language": "python",
   "name": "python3"
  },
  "language_info": {
   "codemirror_mode": {
    "name": "ipython",
    "version": 3
   },
   "file_extension": ".py",
   "mimetype": "text/x-python",
   "name": "python",
   "nbconvert_exporter": "python",
   "pygments_lexer": "ipython3",
   "version": "3.12.5"
  }
 },
 "nbformat": 4,
 "nbformat_minor": 2
}
