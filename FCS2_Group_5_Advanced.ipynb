{
 "cells": [
  {
   "cell_type": "markdown",
   "metadata": {},
   "source": [
    "### Appending Information from CSV"
   ]
  },
  {
   "cell_type": "code",
   "execution_count": null,
   "metadata": {
    "vscode": {
     "languageId": "plaintext"
    }
   },
   "outputs": [],
   "source": [
    "# Initialize Global Variable STUDENTS_LIST and append the information from the CSV File \n",
    "STUDENTS_LIST = []\n",
    "with open('records.csv', 'r') as records:\n",
    "    next(records) # Start from second line onwards\n",
    "    for student in records:\n",
    "        tutorial_group, student_id, school, name, gender, cgpa = student.strip().split(',')\n",
    "        STUDENTS_LIST.append({ #Adding each student into dictionary\n",
    "            'Tutorial Group': tutorial_group,\n",
    "            'Student ID': student_id,\n",
    "            'Name': name,\n",
    "            'School': school,\n",
    "            'Gender': gender,\n",
    "            'CGPA': float(cgpa)\n",
    "        })\n",
    "        tutorial_ordered_list = []"
   ]
  },
  {
   "cell_type": "markdown",
   "metadata": {},
   "source": [
    "### Split Into Tutorial Groups"
   ]
  },
  {
   "cell_type": "code",
   "execution_count": null,
   "metadata": {
    "vscode": {
     "languageId": "plaintext"
    }
   },
   "outputs": [],
   "source": [
    "def split_into_groups(records_list, group_size):\n",
    "        return [records_list[i:i + group_size] for i in range(0, len(records_list), group_size)]\n",
    "    \n",
    "    #Spliting the groups based on tutorial            \n",
    "    tutorial_ordered_list = split_into_groups(STUDENTS_LIST, 50)"
   ]
  },
  {
   "cell_type": "markdown",
   "metadata": {},
   "source": [
    "### Prompt For User Input and Error Catching"
   ]
  },
  {
   "cell_type": "code",
   "execution_count": null,
   "metadata": {
    "vscode": {
     "languageId": "plaintext"
    }
   },
   "outputs": [],
   "source": [
    "while True:\n",
    "    User_input = input(\"please indicate the group size (4-10):  \")\n",
    "    try:\n",
    "        Check_input = int(User_input)\n",
    "    except ValueError:\n",
    "        print(\"The number entered must be an integer between 4 to 10\")\n",
    "        continue\n",
    "    Group_size = int(User_input)\n",
    "    if 4 <= Group_size <= 10 and Group_size != 9:\n",
    "        number_of_groups = 50 // Group_size\n",
    "        break\n",
    "    elif Group_size == 9:\n",
    "        print(\"9 in a group is not possible as there will be 5 leftovers. Adding them back will result in 10 in a group.\")\n",
    "        print(\"please try again\")\n",
    "        continue\n",
    "    else:\n",
    "        print(\"number not in range!\")\n",
    "        continue\n"
   ]
  },
  {
   "cell_type": "markdown",
   "metadata": {},
   "source": [
    "### Merge Sort Algorithm"
   ]
  },
  {
   "cell_type": "code",
   "execution_count": null,
   "metadata": {
    "vscode": {
     "languageId": "plaintext"
    }
   },
   "outputs": [],
   "source": [
    "def merge_sort(list_to_sort, key= lambda x: x):\n",
    "        list_len=len(list_to_sort) #calc len of list\n",
    "\n",
    "\n",
    "        if list_len<=1:\n",
    "            return list_to_sort #return the list if its length is 1 or less\n",
    "   \n",
    "        left_half=merge_sort(list_to_sort[:list_len//2], key) #call mergesort on left half (will recurse down the left tree)\n",
    "        right_half=merge_sort(list_to_sort[list_len//2:], key) #call mergesort on right half (only when left tree is left with 1 element)\n",
    "\n",
    "\n",
    "        return merge(left_half, right_half, key) #calls merge func which returns a sorted list\n",
    "\n",
    "\n",
    "\n",
    "    def merge(left_list, right_list, key):\n",
    "        temp_list=[] #temp list that stores sorted items\n",
    "\n",
    "\n",
    "        while left_list and right_list: #while both arr are not empty\n",
    "            if key(left_list[0]) <= key(right_list[0]): # if key of the 1st element in left arr is less than that of right arr\n",
    "                temp_list.append(left_list[0]) #append to temp_list\n",
    "                left_list.pop(0) #remove this appended item\n",
    "            else:\n",
    "                temp_list.append(right_list[0])\n",
    "                right_list.pop(0)\n",
    "\n",
    "\n",
    "        if left_list: #if there is still elements in one of the arr, extend them to temp_list since the remaining elements are alr sorted\n",
    "            temp_list.extend(left_list)\n",
    "\n",
    "\n",
    "        if right_list:\n",
    "            temp_list.extend(right_list)\n",
    "\n",
    "\n",
    "        return temp_list #return the sorted list to merge_sort"
   ]
  },
  {
   "cell_type": "markdown",
   "metadata": {},
   "source": [
    "### Sorting And Adding Into Groups"
   ]
  },
  {
   "cell_type": "code",
   "execution_count": null,
   "metadata": {
    "vscode": {
     "languageId": "plaintext"
    }
   },
   "outputs": [],
   "source": [
    "for individual_tutorial in tutorial_ordered_list: #can slice the ordered list here\n",
    "        #sort by GPA first\n",
    "        def cgpa_groups(student):\n",
    "            return student[\"CGPA\"]\n",
    "        sorted_individual_tutorial=merge_sort(individual_tutorial, key=cgpa_groups)\n",
    "\n",
    "\n",
    "        #Sort by gender next\n",
    "        def gender_groups(student):\n",
    "                return student[\"Gender\"]\n",
    "        sorted_individual_tutorial.sort(key=gender_groups) #then sort by gender\n",
    "\n",
    "        #Algorithm to add all into their groups \n",
    "        grouping_list = split_into_groups(sorted_individual_tutorial, 10) #Split into 5 groups of 10\n",
    "        temp_list = [[], [], [], [], [], [], [], [], [], []]\n",
    "        for group in range(10):\n",
    "            for person in range(5):\n",
    "                temp_list[group].append(grouping_list[person][group]) "
   ]
  },
  {
   "cell_type": "markdown",
   "metadata": {},
   "source": [
    "### Check Balance Function And Swapping Groups"
   ]
  },
  {
   "cell_type": "code",
   "execution_count": null,
   "metadata": {
    "vscode": {
     "languageId": "plaintext"
    }
   },
   "outputs": [],
   "source": [
    "#This function is only used to visualize the students grouping\n",
    "        def check_balance(category):\n",
    "            if category == 'CGPA':\n",
    "                for group in range(10):\n",
    "                    total_sum = 0\n",
    "                    for member in range(5):\n",
    "                        total_sum += temp_list[group][member][category]\n",
    "                    print(total_sum / 5)\n",
    "            else:\n",
    "                correct = True\n",
    "                for group in range(10):\n",
    "                    counter = {}\n",
    "                    for member in range(5):\n",
    "                        category_value = temp_list[group][member][category]\n",
    "                        '''print(category_value,end=', ')'''\n",
    "                        if category_value in counter:\n",
    "                            counter[category_value] += 1\n",
    "                        else:\n",
    "                            counter[category_value] = 1\n",
    "                    for key, count in counter.items():\n",
    "                        if category == 'School' and count >= 3:\n",
    "                            correct = False \n",
    "                        if category == 'Gender' and count >3:\n",
    "                            correct = False\n",
    "                if correct == True:\n",
    "                    print('correct')\n",
    "                else: \n",
    "                    print('wrong')\n",
    "                    \n",
    "         #this should be used to check the balance in the grouping\n",
    "        #Since we already sorted the list based on CGPA and Gender, I believe most of the groups will only have problems for school?\n",
    "        def check_the_same_school(): #MIGHT HAVE TO CHANGE FUNC NAME TO RECTIFY_SCHOOL_INBALANCE()\n",
    "            Imbalance_case = []\n",
    "            school_of_each_group = [[], [], [], [], [], [], [], [], [], []]\n",
    "            for group in range(10):\n",
    "                for member in range(5):\n",
    "                    school_of_each_group[group].append(temp_list[group][member]['School'])\n",
    "\n",
    "            school_list = ['ADM', 'ASE', 'CCDS', 'CCEB', 'CEE', 'CoB (NBS)', 'CoE', 'EEE', 'HASS', 'LKCMedicine', 'MAE', 'MSE', 'NIE', 'SBS', 'SoH', 'SPMS', 'SSS', 'WKW SCI']\n",
    "\n",
    "            for group in range(10):\n",
    "                school_counts = {}\n",
    "                for school in school_of_each_group[group]:\n",
    "                    if school in school_counts:\n",
    "                        school_counts[school] += 1\n",
    "                    else:\n",
    "                        school_counts[school] = 1\n",
    "                #print(f\"Group {group} counts:\", school_counts) #for debugging\n",
    "                for school, count in school_counts.items():\n",
    "                    if count >= 3: #if inbalanced we swap\n",
    "                        Imbalance_case.append(school_of_each_group[group])        \n",
    "                        #swap begins here\n",
    "                        for target_group in range(10): #iterate through school_of_each_group\n",
    "                            if target_group != group:\n",
    "                                for target_member, target_school in enumerate(school_of_each_group[target_group]):\n",
    "                                    if target_school != school: #ensure sch swapped is diff\n",
    "                                        # swap a member from the imbalanced group with the target group\n",
    "                                        need_repeat = True \n",
    "                                        for member, member_school in enumerate(school_of_each_group[group]):#iterate thru problem grp till we find the sch to swap\n",
    "                                            if need_repeat == False:\n",
    "                                                break\n",
    "                                            if member_school == school and temp_list[target_group][target_member]['Gender'] == temp_list[group][member]['Gender']:\n",
    "                                                # Swap the students between groups\n",
    "                                                temp_list[group][member], temp_list[target_group][target_member] = temp_list[target_group][target_member], temp_list[group][member]\n",
    "\n",
    "                                                # Update school_of_each_group to reflect the swap\n",
    "                                                school_of_each_group[group][member], school_of_each_group[target_group][target_member] = school_of_each_group[target_group][target_member], school_of_each_group[group][member]\n",
    "                                                school_counts[school] -= 1    \n",
    "                                                need_repeat = False\n",
    "                                                                                    \n",
    "                                                #check if both swapped is fine \n",
    "                                                grouping = [target_group, group]\n",
    "                                                for diff_group in grouping:\n",
    "                                                    if need_repeat == True:\n",
    "                                                        break\n",
    "                                                    school_target_count = {}\n",
    "                                                    for schools in school_of_each_group[diff_group]:\n",
    "                                                        if schools in school_target_count:\n",
    "                                                            school_target_count[schools] += 1\n",
    "                                                        else:\n",
    "                                                            school_target_count[schools] = 1\n",
    "                                                    # use this print(school_target_count)\n",
    "                                                    #print(f\"Group {group} counts:\", school_counts) #for debugging\n",
    "                                                    for schools, counts in school_target_count.items():\n",
    "                                                        if counts >= 3 and schools == school and diff_group == group: \n",
    "                                                            need_repeat = True\n",
    "                                                            break\n",
    "                                                        elif counts >= 3: #if inbalanced we swap\n",
    "                                                            temp_list[target_group][target_member], temp_list[group][member] = temp_list[group][member], temp_list[target_group][target_member]\n",
    "                                                            school_of_each_group[target_group][target_member], school_of_each_group[group][member] =  school_of_each_group[group][member], school_of_each_group[target_group][target_member]\n",
    "                                                            school_counts[school] += 1\n",
    "                                                            need_repeat = True \n",
    "                                                \n",
    "                                                # Break after swap to avoid multiple swaps at once\n",
    "                                                break\n",
    "                                            # Check if imbalance is resolved after each swap\\\n",
    "\n",
    "                                    if school_counts[school] < 3:\n",
    "                                        break #break inner loop \n",
    "                                if school_counts[school] < 3:\n",
    "                                    break #break outer loop\n",
    "            "
   ]
  },
  {
   "cell_type": "markdown",
   "metadata": {},
   "source": [
    "### Writing The Ordered Record"
   ]
  },
  {
   "cell_type": "code",
   "execution_count": null,
   "metadata": {
    "vscode": {
     "languageId": "plaintext"
    }
   },
   "outputs": [],
   "source": [
    "with open('new.record.csv', 'w') as new_record:\n",
    "    new_record.write(\"Tutorial Group,Student ID,School,Name,Gender,CGPA,Team Number\\n\")\n",
    "    for individual_tutorial in tutorial_ordered_list:\n",
    "        for individual_member in individual_tutorial:\n",
    "            new_record.write(f\"{individual_member['Tutorial Group']},{individual_member['Student ID']},{individual_member['School']},{individual_member['Name']},{individual_member['Gender']},{individual_member['CGPA']},{individual_member['Team Number']}\\n\")\n"
   ]
  }
 ],
 "metadata": {
  "language_info": {
   "name": "python"
  }
 },
 "nbformat": 4,
 "nbformat_minor": 2
}
